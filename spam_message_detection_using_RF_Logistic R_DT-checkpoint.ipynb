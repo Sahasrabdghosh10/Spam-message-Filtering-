{
 "cells": [
  {
   "cell_type": "code",
   "execution_count": 1,
   "id": "accredited-terrace",
   "metadata": {
    "execution": {
     "iopub.execute_input": "2021-04-02T17:34:15.605226Z",
     "iopub.status.busy": "2021-04-02T17:34:15.604567Z",
     "iopub.status.idle": "2021-04-02T17:34:17.782413Z",
     "shell.execute_reply": "2021-04-02T17:34:17.781748Z"
    },
    "id": "accredited-terrace",
    "papermill": {
     "duration": 2.207328,
     "end_time": "2021-04-02T17:34:17.782570",
     "exception": false,
     "start_time": "2021-04-02T17:34:15.575242",
     "status": "completed"
    },
    "tags": []
   },
   "outputs": [],
   "source": [
    "import pandas as pd\n",
    "import numpy as np\n",
    "import string\n",
    "import seaborn as sns\n",
    "import matplotlib.pyplot as plt\n",
    "from nltk.corpus import stopwords\n",
    "from sklearn.feature_extraction.text import CountVectorizer\n",
    "from sklearn.feature_extraction.text import TfidfTransformer\n",
    "from sklearn.model_selection import train_test_split\n",
    "from collections import Counter\n",
    "from sklearn.metrics import classification_report,confusion_matrix\n",
    "from sklearn.metrics import accuracy_score, precision_score, recall_score, f1_score\n",
    "from sklearn.feature_extraction.text import CountVectorizer\n",
    "from sklearn.metrics import classification_report\n",
    "%matplotlib inline"
   ]
  },
  {
   "cell_type": "code",
   "execution_count": 2,
   "id": "swiss-complex",
   "metadata": {
    "execution": {
     "iopub.execute_input": "2021-04-02T17:34:17.845962Z",
     "iopub.status.busy": "2021-04-02T17:34:17.845263Z",
     "iopub.status.idle": "2021-04-02T17:34:17.921524Z",
     "shell.execute_reply": "2021-04-02T17:34:17.920942Z"
    },
    "id": "swiss-complex",
    "papermill": {
     "duration": 0.11259,
     "end_time": "2021-04-02T17:34:17.921693",
     "exception": false,
     "start_time": "2021-04-02T17:34:17.809103",
     "status": "completed"
    },
    "tags": []
   },
   "outputs": [],
   "source": [
    "data = pd.read_csv(\"emails.csv\")"
   ]
  },
  {
   "cell_type": "code",
   "execution_count": 3,
   "id": "2c57e7de",
   "metadata": {
    "colab": {
     "base_uri": "https://localhost:8080/",
     "height": 206
    },
    "id": "2c57e7de",
    "outputId": "16553494-fb0d-43a9-f232-bc4d30873a7b"
   },
   "outputs": [
    {
     "data": {
      "text/html": [
       "<div>\n",
       "<style scoped>\n",
       "    .dataframe tbody tr th:only-of-type {\n",
       "        vertical-align: middle;\n",
       "    }\n",
       "\n",
       "    .dataframe tbody tr th {\n",
       "        vertical-align: top;\n",
       "    }\n",
       "\n",
       "    .dataframe thead th {\n",
       "        text-align: right;\n",
       "    }\n",
       "</style>\n",
       "<table border=\"1\" class=\"dataframe\">\n",
       "  <thead>\n",
       "    <tr style=\"text-align: right;\">\n",
       "      <th></th>\n",
       "      <th>text</th>\n",
       "      <th>spam</th>\n",
       "    </tr>\n",
       "  </thead>\n",
       "  <tbody>\n",
       "    <tr>\n",
       "      <th>0</th>\n",
       "      <td>Subject: naturally irresistible your corporate...</td>\n",
       "      <td>1</td>\n",
       "    </tr>\n",
       "    <tr>\n",
       "      <th>1</th>\n",
       "      <td>Subject: the stock trading gunslinger  fanny i...</td>\n",
       "      <td>1</td>\n",
       "    </tr>\n",
       "    <tr>\n",
       "      <th>2</th>\n",
       "      <td>Subject: unbelievable new homes made easy  im ...</td>\n",
       "      <td>1</td>\n",
       "    </tr>\n",
       "    <tr>\n",
       "      <th>3</th>\n",
       "      <td>Subject: 4 color printing special  request add...</td>\n",
       "      <td>1</td>\n",
       "    </tr>\n",
       "    <tr>\n",
       "      <th>4</th>\n",
       "      <td>Subject: do not have money , get software cds ...</td>\n",
       "      <td>1</td>\n",
       "    </tr>\n",
       "  </tbody>\n",
       "</table>\n",
       "</div>"
      ],
      "text/plain": [
       "                                                text  spam\n",
       "0  Subject: naturally irresistible your corporate...     1\n",
       "1  Subject: the stock trading gunslinger  fanny i...     1\n",
       "2  Subject: unbelievable new homes made easy  im ...     1\n",
       "3  Subject: 4 color printing special  request add...     1\n",
       "4  Subject: do not have money , get software cds ...     1"
      ]
     },
     "execution_count": 3,
     "metadata": {},
     "output_type": "execute_result"
    }
   ],
   "source": [
    "data.head()"
   ]
  },
  {
   "cell_type": "code",
   "execution_count": 4,
   "id": "negative-fraud",
   "metadata": {
    "colab": {
     "base_uri": "https://localhost:8080/",
     "height": 206
    },
    "execution": {
     "iopub.execute_input": "2021-04-02T17:34:18.128972Z",
     "iopub.status.busy": "2021-04-02T17:34:18.127919Z",
     "iopub.status.idle": "2021-04-02T17:34:18.132823Z",
     "shell.execute_reply": "2021-04-02T17:34:18.133420Z"
    },
    "id": "negative-fraud",
    "outputId": "d7a3384b-117c-4693-d6d1-f92cf468b6c4",
    "papermill": {
     "duration": 0.045688,
     "end_time": "2021-04-02T17:34:18.133633",
     "exception": false,
     "start_time": "2021-04-02T17:34:18.087945",
     "status": "completed"
    },
    "tags": []
   },
   "outputs": [
    {
     "data": {
      "text/html": [
       "<div>\n",
       "<style scoped>\n",
       "    .dataframe tbody tr th:only-of-type {\n",
       "        vertical-align: middle;\n",
       "    }\n",
       "\n",
       "    .dataframe tbody tr th {\n",
       "        vertical-align: top;\n",
       "    }\n",
       "\n",
       "    .dataframe thead th {\n",
       "        text-align: right;\n",
       "    }\n",
       "</style>\n",
       "<table border=\"1\" class=\"dataframe\">\n",
       "  <thead>\n",
       "    <tr style=\"text-align: right;\">\n",
       "      <th></th>\n",
       "      <th>text</th>\n",
       "      <th>spam</th>\n",
       "    </tr>\n",
       "  </thead>\n",
       "  <tbody>\n",
       "    <tr>\n",
       "      <th>0</th>\n",
       "      <td>Subject: naturally irresistible your corporate...</td>\n",
       "      <td>1</td>\n",
       "    </tr>\n",
       "    <tr>\n",
       "      <th>1</th>\n",
       "      <td>Subject: the stock trading gunslinger  fanny i...</td>\n",
       "      <td>1</td>\n",
       "    </tr>\n",
       "    <tr>\n",
       "      <th>2</th>\n",
       "      <td>Subject: unbelievable new homes made easy  im ...</td>\n",
       "      <td>1</td>\n",
       "    </tr>\n",
       "    <tr>\n",
       "      <th>3</th>\n",
       "      <td>Subject: 4 color printing special  request add...</td>\n",
       "      <td>1</td>\n",
       "    </tr>\n",
       "    <tr>\n",
       "      <th>4</th>\n",
       "      <td>Subject: do not have money , get software cds ...</td>\n",
       "      <td>1</td>\n",
       "    </tr>\n",
       "  </tbody>\n",
       "</table>\n",
       "</div>"
      ],
      "text/plain": [
       "                                                text  spam\n",
       "0  Subject: naturally irresistible your corporate...     1\n",
       "1  Subject: the stock trading gunslinger  fanny i...     1\n",
       "2  Subject: unbelievable new homes made easy  im ...     1\n",
       "3  Subject: 4 color printing special  request add...     1\n",
       "4  Subject: do not have money , get software cds ...     1"
      ]
     },
     "execution_count": 4,
     "metadata": {},
     "output_type": "execute_result"
    }
   ],
   "source": [
    "data.head()"
   ]
  },
  {
   "cell_type": "code",
   "execution_count": 5,
   "id": "peaceful-skiing",
   "metadata": {
    "execution": {
     "iopub.execute_input": "2021-04-02T17:34:18.199570Z",
     "iopub.status.busy": "2021-04-02T17:34:18.198650Z",
     "iopub.status.idle": "2021-04-02T17:34:18.202811Z",
     "shell.execute_reply": "2021-04-02T17:34:18.202145Z"
    },
    "id": "peaceful-skiing",
    "papermill": {
     "duration": 0.038618,
     "end_time": "2021-04-02T17:34:18.202957",
     "exception": false,
     "start_time": "2021-04-02T17:34:18.164339",
     "status": "completed"
    },
    "tags": []
   },
   "outputs": [],
   "source": [
    "data.columns = [\"message\",\"class\"]"
   ]
  },
  {
   "cell_type": "code",
   "execution_count": 6,
   "id": "fantastic-radius",
   "metadata": {
    "colab": {
     "base_uri": "https://localhost:8080/",
     "height": 206
    },
    "execution": {
     "iopub.execute_input": "2021-04-02T17:34:18.270499Z",
     "iopub.status.busy": "2021-04-02T17:34:18.269845Z",
     "iopub.status.idle": "2021-04-02T17:34:18.273905Z",
     "shell.execute_reply": "2021-04-02T17:34:18.273320Z"
    },
    "id": "fantastic-radius",
    "outputId": "7adb4175-f121-4990-c479-44051675090d",
    "papermill": {
     "duration": 0.04175,
     "end_time": "2021-04-02T17:34:18.274055",
     "exception": false,
     "start_time": "2021-04-02T17:34:18.232305",
     "status": "completed"
    },
    "tags": []
   },
   "outputs": [
    {
     "data": {
      "text/html": [
       "<div>\n",
       "<style scoped>\n",
       "    .dataframe tbody tr th:only-of-type {\n",
       "        vertical-align: middle;\n",
       "    }\n",
       "\n",
       "    .dataframe tbody tr th {\n",
       "        vertical-align: top;\n",
       "    }\n",
       "\n",
       "    .dataframe thead th {\n",
       "        text-align: right;\n",
       "    }\n",
       "</style>\n",
       "<table border=\"1\" class=\"dataframe\">\n",
       "  <thead>\n",
       "    <tr style=\"text-align: right;\">\n",
       "      <th></th>\n",
       "      <th>message</th>\n",
       "      <th>class</th>\n",
       "    </tr>\n",
       "  </thead>\n",
       "  <tbody>\n",
       "    <tr>\n",
       "      <th>0</th>\n",
       "      <td>Subject: naturally irresistible your corporate...</td>\n",
       "      <td>1</td>\n",
       "    </tr>\n",
       "    <tr>\n",
       "      <th>1</th>\n",
       "      <td>Subject: the stock trading gunslinger  fanny i...</td>\n",
       "      <td>1</td>\n",
       "    </tr>\n",
       "    <tr>\n",
       "      <th>2</th>\n",
       "      <td>Subject: unbelievable new homes made easy  im ...</td>\n",
       "      <td>1</td>\n",
       "    </tr>\n",
       "    <tr>\n",
       "      <th>3</th>\n",
       "      <td>Subject: 4 color printing special  request add...</td>\n",
       "      <td>1</td>\n",
       "    </tr>\n",
       "    <tr>\n",
       "      <th>4</th>\n",
       "      <td>Subject: do not have money , get software cds ...</td>\n",
       "      <td>1</td>\n",
       "    </tr>\n",
       "  </tbody>\n",
       "</table>\n",
       "</div>"
      ],
      "text/plain": [
       "                                             message  class\n",
       "0  Subject: naturally irresistible your corporate...      1\n",
       "1  Subject: the stock trading gunslinger  fanny i...      1\n",
       "2  Subject: unbelievable new homes made easy  im ...      1\n",
       "3  Subject: 4 color printing special  request add...      1\n",
       "4  Subject: do not have money , get software cds ...      1"
      ]
     },
     "execution_count": 6,
     "metadata": {},
     "output_type": "execute_result"
    }
   ],
   "source": [
    "data.head()"
   ]
  },
  {
   "cell_type": "code",
   "execution_count": 7,
   "id": "declared-oklahoma",
   "metadata": {
    "execution": {
     "iopub.execute_input": "2021-04-02T17:34:18.339811Z",
     "iopub.status.busy": "2021-04-02T17:34:18.339119Z",
     "iopub.status.idle": "2021-04-02T17:34:18.345219Z",
     "shell.execute_reply": "2021-04-02T17:34:18.345878Z"
    },
    "id": "declared-oklahoma",
    "papermill": {
     "duration": 0.042571,
     "end_time": "2021-04-02T17:34:18.346080",
     "exception": false,
     "start_time": "2021-04-02T17:34:18.303509",
     "status": "completed"
    },
    "tags": []
   },
   "outputs": [],
   "source": [
    "data['length'] = [len(d) for d in data.message]"
   ]
  },
  {
   "cell_type": "code",
   "execution_count": 8,
   "id": "colonial-revolution",
   "metadata": {
    "colab": {
     "base_uri": "https://localhost:8080/",
     "height": 206
    },
    "execution": {
     "iopub.execute_input": "2021-04-02T17:34:18.408995Z",
     "iopub.status.busy": "2021-04-02T17:34:18.408335Z",
     "iopub.status.idle": "2021-04-02T17:34:18.419336Z",
     "shell.execute_reply": "2021-04-02T17:34:18.418292Z"
    },
    "id": "colonial-revolution",
    "outputId": "1f47faed-a423-4731-a533-8d97d266861e",
    "papermill": {
     "duration": 0.043481,
     "end_time": "2021-04-02T17:34:18.419583",
     "exception": false,
     "start_time": "2021-04-02T17:34:18.376102",
     "status": "completed"
    },
    "tags": []
   },
   "outputs": [
    {
     "data": {
      "text/html": [
       "<div>\n",
       "<style scoped>\n",
       "    .dataframe tbody tr th:only-of-type {\n",
       "        vertical-align: middle;\n",
       "    }\n",
       "\n",
       "    .dataframe tbody tr th {\n",
       "        vertical-align: top;\n",
       "    }\n",
       "\n",
       "    .dataframe thead th {\n",
       "        text-align: right;\n",
       "    }\n",
       "</style>\n",
       "<table border=\"1\" class=\"dataframe\">\n",
       "  <thead>\n",
       "    <tr style=\"text-align: right;\">\n",
       "      <th></th>\n",
       "      <th>message</th>\n",
       "      <th>class</th>\n",
       "      <th>length</th>\n",
       "    </tr>\n",
       "  </thead>\n",
       "  <tbody>\n",
       "    <tr>\n",
       "      <th>0</th>\n",
       "      <td>Subject: naturally irresistible your corporate...</td>\n",
       "      <td>1</td>\n",
       "      <td>1484</td>\n",
       "    </tr>\n",
       "    <tr>\n",
       "      <th>1</th>\n",
       "      <td>Subject: the stock trading gunslinger  fanny i...</td>\n",
       "      <td>1</td>\n",
       "      <td>598</td>\n",
       "    </tr>\n",
       "    <tr>\n",
       "      <th>2</th>\n",
       "      <td>Subject: unbelievable new homes made easy  im ...</td>\n",
       "      <td>1</td>\n",
       "      <td>448</td>\n",
       "    </tr>\n",
       "    <tr>\n",
       "      <th>3</th>\n",
       "      <td>Subject: 4 color printing special  request add...</td>\n",
       "      <td>1</td>\n",
       "      <td>500</td>\n",
       "    </tr>\n",
       "    <tr>\n",
       "      <th>4</th>\n",
       "      <td>Subject: do not have money , get software cds ...</td>\n",
       "      <td>1</td>\n",
       "      <td>235</td>\n",
       "    </tr>\n",
       "  </tbody>\n",
       "</table>\n",
       "</div>"
      ],
      "text/plain": [
       "                                             message  class  length\n",
       "0  Subject: naturally irresistible your corporate...      1    1484\n",
       "1  Subject: the stock trading gunslinger  fanny i...      1     598\n",
       "2  Subject: unbelievable new homes made easy  im ...      1     448\n",
       "3  Subject: 4 color printing special  request add...      1     500\n",
       "4  Subject: do not have money , get software cds ...      1     235"
      ]
     },
     "execution_count": 8,
     "metadata": {},
     "output_type": "execute_result"
    }
   ],
   "source": [
    "data.head()"
   ]
  },
  {
   "cell_type": "code",
   "execution_count": 9,
   "id": "headed-firmware",
   "metadata": {
    "colab": {
     "base_uri": "https://localhost:8080/",
     "height": 206
    },
    "execution": {
     "iopub.execute_input": "2021-04-02T17:34:18.483104Z",
     "iopub.status.busy": "2021-04-02T17:34:18.482470Z",
     "iopub.status.idle": "2021-04-02T17:34:18.528324Z",
     "shell.execute_reply": "2021-04-02T17:34:18.527779Z"
    },
    "id": "headed-firmware",
    "outputId": "5400b88c-987c-4545-df5a-bdc49b614502",
    "papermill": {
     "duration": 0.078879,
     "end_time": "2021-04-02T17:34:18.528466",
     "exception": false,
     "start_time": "2021-04-02T17:34:18.449587",
     "status": "completed"
    },
    "tags": []
   },
   "outputs": [
    {
     "data": {
      "text/html": [
       "<div>\n",
       "<style scoped>\n",
       "    .dataframe tbody tr th:only-of-type {\n",
       "        vertical-align: middle;\n",
       "    }\n",
       "\n",
       "    .dataframe tbody tr th {\n",
       "        vertical-align: top;\n",
       "    }\n",
       "\n",
       "    .dataframe thead tr th {\n",
       "        text-align: left;\n",
       "    }\n",
       "\n",
       "    .dataframe thead tr:last-of-type th {\n",
       "        text-align: right;\n",
       "    }\n",
       "</style>\n",
       "<table border=\"1\" class=\"dataframe\">\n",
       "  <thead>\n",
       "    <tr>\n",
       "      <th></th>\n",
       "      <th colspan=\"8\" halign=\"left\">length</th>\n",
       "    </tr>\n",
       "    <tr>\n",
       "      <th></th>\n",
       "      <th>count</th>\n",
       "      <th>mean</th>\n",
       "      <th>std</th>\n",
       "      <th>min</th>\n",
       "      <th>25%</th>\n",
       "      <th>50%</th>\n",
       "      <th>75%</th>\n",
       "      <th>max</th>\n",
       "    </tr>\n",
       "    <tr>\n",
       "      <th>class</th>\n",
       "      <th></th>\n",
       "      <th></th>\n",
       "      <th></th>\n",
       "      <th></th>\n",
       "      <th></th>\n",
       "      <th></th>\n",
       "      <th></th>\n",
       "      <th></th>\n",
       "    </tr>\n",
       "  </thead>\n",
       "  <tbody>\n",
       "    <tr>\n",
       "      <th>0</th>\n",
       "      <td>4360.0</td>\n",
       "      <td>1631.918119</td>\n",
       "      <td>1959.664549</td>\n",
       "      <td>13.0</td>\n",
       "      <td>577.75</td>\n",
       "      <td>1122.0</td>\n",
       "      <td>2037.25</td>\n",
       "      <td>43952.0</td>\n",
       "    </tr>\n",
       "    <tr>\n",
       "      <th>1</th>\n",
       "      <td>1368.0</td>\n",
       "      <td>1317.257310</td>\n",
       "      <td>2271.372893</td>\n",
       "      <td>18.0</td>\n",
       "      <td>401.50</td>\n",
       "      <td>693.5</td>\n",
       "      <td>1250.25</td>\n",
       "      <td>28432.0</td>\n",
       "    </tr>\n",
       "  </tbody>\n",
       "</table>\n",
       "</div>"
      ],
      "text/plain": [
       "       length                                                           \\\n",
       "        count         mean          std   min     25%     50%      75%   \n",
       "class                                                                    \n",
       "0      4360.0  1631.918119  1959.664549  13.0  577.75  1122.0  2037.25   \n",
       "1      1368.0  1317.257310  2271.372893  18.0  401.50   693.5  1250.25   \n",
       "\n",
       "                \n",
       "           max  \n",
       "class           \n",
       "0      43952.0  \n",
       "1      28432.0  "
      ]
     },
     "execution_count": 9,
     "metadata": {},
     "output_type": "execute_result"
    }
   ],
   "source": [
    "data.groupby('class').describe()"
   ]
  },
  {
   "cell_type": "code",
   "execution_count": 10,
   "id": "complex-sport",
   "metadata": {
    "colab": {
     "base_uri": "https://localhost:8080/",
     "height": 297
    },
    "execution": {
     "iopub.execute_input": "2021-04-02T17:34:18.601021Z",
     "iopub.status.busy": "2021-04-02T17:34:18.598036Z",
     "iopub.status.idle": "2021-04-02T17:34:18.746359Z",
     "shell.execute_reply": "2021-04-02T17:34:18.745663Z"
    },
    "id": "complex-sport",
    "outputId": "8733f7be-28b1-4596-9bd0-4f00cff57d8f",
    "papermill": {
     "duration": 0.187546,
     "end_time": "2021-04-02T17:34:18.746504",
     "exception": false,
     "start_time": "2021-04-02T17:34:18.558958",
     "status": "completed"
    },
    "tags": []
   },
   "outputs": [
    {
     "data": {
      "text/plain": [
       "<AxesSubplot:xlabel='class', ylabel='count'>"
      ]
     },
     "execution_count": 10,
     "metadata": {},
     "output_type": "execute_result"
    },
    {
     "data": {
      "image/png": "[encoded data removed]",
      "text/plain": [
       "<Figure size 640x480 with 1 Axes>"
      ]
     },
     "metadata": {},
     "output_type": "display_data"
    }
   ],
   "source": [
    "sns.countplot(x=data['class'])"
   ]
  },
  {
   "cell_type": "code",
   "execution_count": 11,
   "id": "streaming-relay",
   "metadata": {
    "colab": {
     "base_uri": "https://localhost:8080/",
     "height": 296
    },
    "execution": {
     "iopub.execute_input": "2021-04-02T17:34:18.819619Z",
     "iopub.status.busy": "2021-04-02T17:34:18.818662Z",
     "iopub.status.idle": "2021-04-02T17:34:19.069513Z",
     "shell.execute_reply": "2021-04-02T17:34:19.070078Z"
    },
    "id": "streaming-relay",
    "outputId": "97591488-ff06-40e6-ad0b-4c44bbd29a68",
    "papermill": {
     "duration": 0.291825,
     "end_time": "2021-04-02T17:34:19.070266",
     "exception": false,
     "start_time": "2021-04-02T17:34:18.778441",
     "status": "completed"
    },
    "tags": []
   },
   "outputs": [
    {
     "data": {
      "text/plain": [
       "<AxesSubplot:xlabel='class', ylabel='length'>"
      ]
     },
     "execution_count": 11,
     "metadata": {},
     "output_type": "execute_result"
    },
    {
     "data": {
      "image/png": "[encoded data removed]",
      "text/plain": [
       "<Figure size 640x480 with 1 Axes>"
      ]
     },
     "metadata": {},
     "output_type": "display_data"
    }
   ],
   "source": [
    "sns.barplot(x=data[\"class\"],y=data[\"length\"])"
   ]
  },
  {
   "cell_type": "code",
   "execution_count": 12,
   "id": "dimensional-climate",
   "metadata": {
    "execution": {
     "iopub.execute_input": "2021-04-02T17:34:19.144381Z",
     "iopub.status.busy": "2021-04-02T17:34:19.143675Z",
     "iopub.status.idle": "2021-04-02T17:34:19.147331Z",
     "shell.execute_reply": "2021-04-02T17:34:19.146792Z"
    },
    "id": "dimensional-climate",
    "papermill": {
     "duration": 0.043487,
     "end_time": "2021-04-02T17:34:19.147481",
     "exception": false,
     "start_time": "2021-04-02T17:34:19.103994",
     "status": "completed"
    },
    "tags": []
   },
   "outputs": [],
   "source": [
    "data.drop([\"length\"],axis=1,inplace=True)"
   ]
  },
  {
   "cell_type": "code",
   "execution_count": 13,
   "id": "manual-usage",
   "metadata": {
    "colab": {
     "base_uri": "https://localhost:8080/",
     "height": 206
    },
    "execution": {
     "iopub.execute_input": "2021-04-02T17:34:19.224646Z",
     "iopub.status.busy": "2021-04-02T17:34:19.223630Z",
     "iopub.status.idle": "2021-04-02T17:34:19.228599Z",
     "shell.execute_reply": "2021-04-02T17:34:19.228071Z"
    },
    "id": "manual-usage",
    "outputId": "b4e1607b-9f7f-409b-81d7-fc4442691f5a",
    "papermill": {
     "duration": 0.04807,
     "end_time": "2021-04-02T17:34:19.228743",
     "exception": false,
     "start_time": "2021-04-02T17:34:19.180673",
     "status": "completed"
    },
    "tags": []
   },
   "outputs": [
    {
     "data": {
      "text/html": [
       "<div>\n",
       "<style scoped>\n",
       "    .dataframe tbody tr th:only-of-type {\n",
       "        vertical-align: middle;\n",
       "    }\n",
       "\n",
       "    .dataframe tbody tr th {\n",
       "        vertical-align: top;\n",
       "    }\n",
       "\n",
       "    .dataframe thead th {\n",
       "        text-align: right;\n",
       "    }\n",
       "</style>\n",
       "<table border=\"1\" class=\"dataframe\">\n",
       "  <thead>\n",
       "    <tr style=\"text-align: right;\">\n",
       "      <th></th>\n",
       "      <th>message</th>\n",
       "      <th>class</th>\n",
       "    </tr>\n",
       "  </thead>\n",
       "  <tbody>\n",
       "    <tr>\n",
       "      <th>0</th>\n",
       "      <td>Subject: naturally irresistible your corporate...</td>\n",
       "      <td>1</td>\n",
       "    </tr>\n",
       "    <tr>\n",
       "      <th>1</th>\n",
       "      <td>Subject: the stock trading gunslinger  fanny i...</td>\n",
       "      <td>1</td>\n",
       "    </tr>\n",
       "    <tr>\n",
       "      <th>2</th>\n",
       "      <td>Subject: unbelievable new homes made easy  im ...</td>\n",
       "      <td>1</td>\n",
       "    </tr>\n",
       "    <tr>\n",
       "      <th>3</th>\n",
       "      <td>Subject: 4 color printing special  request add...</td>\n",
       "      <td>1</td>\n",
       "    </tr>\n",
       "    <tr>\n",
       "      <th>4</th>\n",
       "      <td>Subject: do not have money , get software cds ...</td>\n",
       "      <td>1</td>\n",
       "    </tr>\n",
       "  </tbody>\n",
       "</table>\n",
       "</div>"
      ],
      "text/plain": [
       "                                             message  class\n",
       "0  Subject: naturally irresistible your corporate...      1\n",
       "1  Subject: the stock trading gunslinger  fanny i...      1\n",
       "2  Subject: unbelievable new homes made easy  im ...      1\n",
       "3  Subject: 4 color printing special  request add...      1\n",
       "4  Subject: do not have money , get software cds ...      1"
      ]
     },
     "execution_count": 13,
     "metadata": {},
     "output_type": "execute_result"
    }
   ],
   "source": [
    "data.head()"
   ]
  },
  {
   "cell_type": "code",
   "execution_count": 14,
   "id": "average-broadway",
   "metadata": {
    "execution": {
     "iopub.execute_input": "2021-04-02T17:34:19.305210Z",
     "iopub.status.busy": "2021-04-02T17:34:19.304437Z",
     "iopub.status.idle": "2021-04-02T17:34:19.307399Z",
     "shell.execute_reply": "2021-04-02T17:34:19.306835Z"
    },
    "id": "average-broadway",
    "papermill": {
     "duration": 0.044429,
     "end_time": "2021-04-02T17:34:19.307562",
     "exception": false,
     "start_time": "2021-04-02T17:34:19.263133",
     "status": "completed"
    },
    "tags": []
   },
   "outputs": [],
   "source": [
    "def transform_message(message):\n",
    "    message_not_punc = [] # Message without punctuation\n",
    "    i = 0\n",
    "    for punctuation in message:\n",
    "        if punctuation not in string.punctuation:\n",
    "            message_not_punc.append(punctuation)\n",
    "    # Join words again to form the string.\n",
    "    message_not_punc = ''.join(message_not_punc) \n",
    "\n",
    "    # Remove any stopwords for message_not_punc, but first we should     \n",
    "    # to transform this into the list.\n",
    "    message_clean = list(message_not_punc.split(\" \"))\n",
    "    while i <= len(message_clean):\n",
    "        for mess in message_clean:\n",
    "            if mess.lower()  in stopwords.words('english'):\n",
    "                message_clean.remove(mess)\n",
    "        i =i +1\n",
    "    return  message_clean"
   ]
  },
  {
   "cell_type": "code",
   "execution_count": null,
   "id": "spanish-light",
   "metadata": {
    "colab": {
     "base_uri": "https://localhost:8080/"
    },
    "execution": {
     "iopub.execute_input": "2021-04-02T17:34:19.382656Z",
     "iopub.status.busy": "2021-04-02T17:34:19.381949Z",
     "iopub.status.idle": "2021-04-02T17:36:10.376093Z",
     "shell.execute_reply": "2021-04-02T17:36:10.376641Z"
    },
    "id": "spanish-light",
    "outputId": "db8e5c4e-f553-4434-b50d-077c0d542b6d",
    "papermill": {
     "duration": 111.035257,
     "end_time": "2021-04-02T17:36:10.376845",
     "exception": false,
     "start_time": "2021-04-02T17:34:19.341588",
     "status": "completed"
    },
    "tags": []
   },
   "outputs": [],
   "source": [
    "import nltk\n",
    "import re\n",
    "nltk.download('stopwords')\n",
    "from nltk.corpus import stopwords\n",
    "STOPWORDS = set(stopwords.words('english'))"
   ]
  },
  {
   "cell_type": "code",
   "execution_count": null,
   "id": "1b84bd9a",
   "metadata": {},
   "outputs": [],
   "source": [
    "data['message'].apply(transform_message)"
   ]
  },
  {
   "cell_type": "code",
   "execution_count": null,
   "id": "quality-approval",
   "metadata": {
    "execution": {
     "iopub.execute_input": "2021-04-02T17:36:10.448790Z",
     "iopub.status.busy": "2021-04-02T17:36:10.447833Z",
     "iopub.status.idle": "2021-04-02T17:36:10.452088Z",
     "shell.execute_reply": "2021-04-02T17:36:10.452574Z"
    },
    "id": "quality-approval",
    "papermill": {
     "duration": 0.041958,
     "end_time": "2021-04-02T17:36:10.452750",
     "exception": false,
     "start_time": "2021-04-02T17:36:10.410792",
     "status": "completed"
    },
    "tags": []
   },
   "outputs": [],
   "source": [
    "vectorization = CountVectorizer(analyzer=transform_message)"
   ]
  },
  {
   "cell_type": "code",
   "execution_count": null,
   "id": "incorporate-providence",
   "metadata": {
    "execution": {
     "iopub.execute_input": "2021-04-02T17:36:10.525595Z",
     "iopub.status.busy": "2021-04-02T17:36:10.524671Z",
     "iopub.status.idle": "2021-04-02T17:38:01.998757Z",
     "shell.execute_reply": "2021-04-02T17:38:01.999344Z"
    },
    "id": "incorporate-providence",
    "papermill": {
     "duration": 111.511854,
     "end_time": "2021-04-02T17:38:01.999612",
     "exception": false,
     "start_time": "2021-04-02T17:36:10.487758",
     "status": "completed"
    },
    "tags": []
   },
   "outputs": [],
   "source": [
    "X = vectorization.fit(data[\"message\"])"
   ]
  },
  {
   "cell_type": "code",
   "execution_count": null,
   "id": "numeric-northwest",
   "metadata": {
    "execution": {
     "iopub.execute_input": "2021-04-02T17:38:02.089996Z",
     "iopub.status.busy": "2021-04-02T17:38:02.089172Z",
     "iopub.status.idle": "2021-04-02T17:39:54.438965Z",
     "shell.execute_reply": "2021-04-02T17:39:54.437851Z"
    },
    "id": "numeric-northwest",
    "papermill": {
     "duration": 112.393471,
     "end_time": "2021-04-02T17:39:54.439223",
     "exception": false,
     "start_time": "2021-04-02T17:38:02.045752",
     "status": "completed"
    },
    "tags": []
   },
   "outputs": [],
   "source": [
    "\n",
    "X_transform = X.transform(data[\"message\"])"
   ]
  },
  {
   "cell_type": "code",
   "execution_count": null,
   "id": "occupational-mystery",
   "metadata": {
    "colab": {
     "base_uri": "https://localhost:8080/"
    },
    "execution": {
     "iopub.execute_input": "2021-04-02T17:39:54.513929Z",
     "iopub.status.busy": "2021-04-02T17:39:54.513215Z",
     "iopub.status.idle": "2021-04-02T17:39:54.521270Z",
     "shell.execute_reply": "2021-04-02T17:39:54.521825Z"
    },
    "id": "occupational-mystery",
    "outputId": "1cc55bd3-a7ee-4bf2-ae59-45f3a842b4b8",
    "papermill": {
     "duration": 0.046729,
     "end_time": "2021-04-02T17:39:54.522034",
     "exception": false,
     "start_time": "2021-04-02T17:39:54.475305",
     "status": "completed"
    },
    "tags": []
   },
   "outputs": [],
   "source": [
    "print(X_transform)"
   ]
  },
  {
   "cell_type": "code",
   "execution_count": null,
   "id": "buried-cream",
   "metadata": {
    "execution": {
     "iopub.execute_input": "2021-04-02T17:39:54.599337Z",
     "iopub.status.busy": "2021-04-02T17:39:54.598579Z",
     "iopub.status.idle": "2021-04-02T17:39:54.604441Z",
     "shell.execute_reply": "2021-04-02T17:39:54.603862Z"
    },
    "id": "buried-cream",
    "papermill": {
     "duration": 0.045871,
     "end_time": "2021-04-02T17:39:54.604600",
     "exception": false,
     "start_time": "2021-04-02T17:39:54.558729",
     "status": "completed"
    },
    "tags": []
   },
   "outputs": [],
   "source": [
    "tfidf_transformer = TfidfTransformer().fit(X_transform)"
   ]
  },
  {
   "cell_type": "code",
   "execution_count": null,
   "id": "chicken-albany",
   "metadata": {
    "execution": {
     "iopub.execute_input": "2021-04-02T17:39:54.679169Z",
     "iopub.status.busy": "2021-04-02T17:39:54.678415Z",
     "iopub.status.idle": "2021-04-02T17:39:54.692107Z",
     "shell.execute_reply": "2021-04-02T17:39:54.690783Z"
    },
    "id": "chicken-albany",
    "papermill": {
     "duration": 0.052274,
     "end_time": "2021-04-02T17:39:54.692263",
     "exception": false,
     "start_time": "2021-04-02T17:39:54.639989",
     "status": "completed"
    },
    "tags": []
   },
   "outputs": [],
   "source": [
    "X_tfidf = tfidf_transformer.transform(X_transform)"
   ]
  },
  {
   "cell_type": "code",
   "execution_count": null,
   "id": "offensive-graduation",
   "metadata": {
    "colab": {
     "base_uri": "https://localhost:8080/"
    },
    "execution": {
     "iopub.execute_input": "2021-04-02T17:39:54.767805Z",
     "iopub.status.busy": "2021-04-02T17:39:54.767110Z",
     "iopub.status.idle": "2021-04-02T17:39:54.773512Z",
     "shell.execute_reply": "2021-04-02T17:39:54.772732Z"
    },
    "id": "offensive-graduation",
    "outputId": "36e2827c-577f-4cd3-b7b6-e8eac6282607",
    "papermill": {
     "duration": 0.045805,
     "end_time": "2021-04-02T17:39:54.773694",
     "exception": false,
     "start_time": "2021-04-02T17:39:54.727889",
     "status": "completed"
    },
    "tags": []
   },
   "outputs": [],
   "source": [
    "print(X_tfidf.shape)"
   ]
  },
  {
   "cell_type": "code",
   "execution_count": null,
   "id": "adbf58f9",
   "metadata": {},
   "outputs": [],
   "source": []
  },
  {
   "cell_type": "markdown",
   "id": "967a6ddd",
   "metadata": {},
   "source": [
    "\n",
    "\n",
    "# Split the dataset"
   ]
  },
  {
   "cell_type": "code",
   "execution_count": 26,
   "id": "statistical-hebrew",
   "metadata": {
    "execution": {
     "iopub.execute_input": "2021-04-02T17:39:54.856893Z",
     "iopub.status.busy": "2021-04-02T17:39:54.856207Z",
     "iopub.status.idle": "2021-04-02T17:39:54.865305Z",
     "shell.execute_reply": "2021-04-02T17:39:54.865855Z"
    },
    "id": "statistical-hebrew",
    "papermill": {
     "duration": 0.056135,
     "end_time": "2021-04-02T17:39:54.866052",
     "exception": false,
     "start_time": "2021-04-02T17:39:54.809917",
     "status": "completed"
    },
    "tags": []
   },
   "outputs": [],
   "source": [
    "X_train, X_test, y_train, y_test = train_test_split(data['message'], data['class'], test_size=0.3,random_state = 50)  "
   ]
  },
  {
   "cell_type": "code",
   "execution_count": 27,
   "id": "lesbian-characteristic",
   "metadata": {
    "colab": {
     "base_uri": "https://localhost:8080/"
    },
    "execution": {
     "iopub.execute_input": "2021-04-02T17:39:54.941674Z",
     "iopub.status.busy": "2021-04-02T17:39:54.940906Z",
     "iopub.status.idle": "2021-04-02T17:39:54.951294Z",
     "shell.execute_reply": "2021-04-02T17:39:54.950490Z"
    },
    "id": "lesbian-characteristic",
    "outputId": "b1f22c69-cac0-4612-f470-bf57e272188f",
    "papermill": {
     "duration": 0.049289,
     "end_time": "2021-04-02T17:39:54.951461",
     "exception": false,
     "start_time": "2021-04-02T17:39:54.902172",
     "status": "completed"
    },
    "tags": []
   },
   "outputs": [
    {
     "data": {
      "text/plain": [
       "(2696    Nope but i'm going home now then go pump petro...\n",
       " 1659                         Yeah, where's your class at?\n",
       " 4829    The word \\Checkmate\\\" in chess comes from the ...\n",
       " 5319                         Kothi print out marandratha.\n",
       " 1394                 R we still meeting 4 dinner tonight?\n",
       "                               ...                        \n",
       " 3330            How much it will cost approx . Per month.\n",
       " 70         Wah lucky man... Then can save money... Hee...\n",
       " 132                             First answer my question.\n",
       " 2014    Ambrith..madurai..met u in arun dha marrge..re...\n",
       " 1931                  What pa tell me.. I went to bath:-)\n",
       " Name: message, Length: 3900, dtype: object,\n",
       " 2696    ham\n",
       " 1659    ham\n",
       " 4829    ham\n",
       " 5319    ham\n",
       " 1394    ham\n",
       "        ... \n",
       " 3330    ham\n",
       " 70      ham\n",
       " 132     ham\n",
       " 2014    ham\n",
       " 1931    ham\n",
       " Name: class, Length: 3900, dtype: object)"
      ]
     },
     "execution_count": 27,
     "metadata": {},
     "output_type": "execute_result"
    }
   ],
   "source": [
    "X_train,y_train"
   ]
  },
  {
   "cell_type": "code",
   "execution_count": 28,
   "id": "alpine-occupation",
   "metadata": {
    "execution": {
     "iopub.execute_input": "2021-04-02T17:39:55.029787Z",
     "iopub.status.busy": "2021-04-02T17:39:55.029132Z",
     "iopub.status.idle": "2021-04-02T17:39:55.033122Z",
     "shell.execute_reply": "2021-04-02T17:39:55.032511Z"
    },
    "id": "alpine-occupation",
    "papermill": {
     "duration": 0.045168,
     "end_time": "2021-04-02T17:39:55.033271",
     "exception": false,
     "start_time": "2021-04-02T17:39:54.988103",
     "status": "completed"
    },
    "tags": []
   },
   "outputs": [],
   "source": [
    "bow = CountVectorizer(stop_words='english')"
   ]
  },
  {
   "cell_type": "code",
   "execution_count": 29,
   "id": "packed-neighbor",
   "metadata": {
    "colab": {
     "base_uri": "https://localhost:8080/"
    },
    "execution": {
     "iopub.execute_input": "2021-04-02T17:39:55.111827Z",
     "iopub.status.busy": "2021-04-02T17:39:55.111130Z",
     "iopub.status.idle": "2021-04-02T17:39:55.219404Z",
     "shell.execute_reply": "2021-04-02T17:39:55.219910Z"
    },
    "id": "packed-neighbor",
    "outputId": "837d61e3-9686-472f-c297-543b23bcacdf",
    "papermill": {
     "duration": 0.150259,
     "end_time": "2021-04-02T17:39:55.220103",
     "exception": false,
     "start_time": "2021-04-02T17:39:55.069844",
     "status": "completed"
    },
    "tags": []
   },
   "outputs": [
    {
     "data": {
      "text/plain": [
       "CountVectorizer(stop_words='english')"
      ]
     },
     "execution_count": 29,
     "metadata": {},
     "output_type": "execute_result"
    }
   ],
   "source": [
    "# Fit the bag of words on the training docs\n",
    "bow.fit(X_train)"
   ]
  },
  {
   "cell_type": "code",
   "execution_count": 30,
   "id": "parliamentary-smart",
   "metadata": {
    "execution": {
     "iopub.execute_input": "2021-04-02T17:39:55.338777Z",
     "iopub.status.busy": "2021-04-02T17:39:55.317901Z",
     "iopub.status.idle": "2021-04-02T17:39:55.419384Z",
     "shell.execute_reply": "2021-04-02T17:39:55.418793Z"
    },
    "id": "parliamentary-smart",
    "papermill": {
     "duration": 0.162697,
     "end_time": "2021-04-02T17:39:55.419588",
     "exception": false,
     "start_time": "2021-04-02T17:39:55.256891",
     "status": "completed"
    },
    "tags": []
   },
   "outputs": [],
   "source": [
    "X_train = bow.transform(X_train)\n",
    "X_test = bow.transform(X_test)"
   ]
  },
  {
   "cell_type": "code",
   "execution_count": 31,
   "id": "abstract-bulletin",
   "metadata": {
    "colab": {
     "base_uri": "https://localhost:8080/"
    },
    "execution": {
     "iopub.execute_input": "2021-04-02T17:39:55.500619Z",
     "iopub.status.busy": "2021-04-02T17:39:55.499884Z",
     "iopub.status.idle": "2021-04-02T17:39:55.504935Z",
     "shell.execute_reply": "2021-04-02T17:39:55.504257Z"
    },
    "id": "abstract-bulletin",
    "outputId": "0cdedc07-9c5e-4584-ee43-522f93c89c64",
    "papermill": {
     "duration": 0.0476,
     "end_time": "2021-04-02T17:39:55.505089",
     "exception": false,
     "start_time": "2021-04-02T17:39:55.457489",
     "status": "completed"
    },
    "tags": []
   },
   "outputs": [
    {
     "data": {
      "text/plain": [
       "(<3900x6993 sparse matrix of type '<class 'numpy.int64'>'\n",
       " \twith 30216 stored elements in Compressed Sparse Row format>,\n",
       " <1672x6993 sparse matrix of type '<class 'numpy.int64'>'\n",
       " \twith 11571 stored elements in Compressed Sparse Row format>)"
      ]
     },
     "execution_count": 31,
     "metadata": {},
     "output_type": "execute_result"
    }
   ],
   "source": [
    "X_train,X_test"
   ]
  },
  {
   "cell_type": "markdown",
   "id": "c5bfa334",
   "metadata": {},
   "source": [
    "# Random forest"
   ]
  },
  {
   "cell_type": "code",
   "execution_count": 32,
   "id": "2cf88a6f",
   "metadata": {},
   "outputs": [],
   "source": [
    "#  Random Forest\n",
    "from sklearn.ensemble import  RandomForestClassifier\n",
    "rfm=RandomForestClassifier(n_estimators=15, oob_score=False, n_jobs=-1, \n",
    "                           random_state=101, max_features=None, min_samples_leaf=30)"
   ]
  },
  {
   "cell_type": "code",
   "execution_count": 33,
   "id": "b28d55dd",
   "metadata": {},
   "outputs": [
    {
     "data": {
      "text/plain": [
       "<3900x6993 sparse matrix of type '<class 'numpy.int64'>'\n",
       "\twith 30216 stored elements in Compressed Sparse Row format>"
      ]
     },
     "execution_count": 33,
     "metadata": {},
     "output_type": "execute_result"
    }
   ],
   "source": [
    "X_train"
   ]
  },
  {
   "cell_type": "code",
   "execution_count": 34,
   "id": "e55e26d2",
   "metadata": {},
   "outputs": [
    {
     "data": {
      "text/plain": [
       "RandomForestClassifier(max_features=None, min_samples_leaf=30, n_estimators=15,\n",
       "                       n_jobs=-1, random_state=101)"
      ]
     },
     "execution_count": 34,
     "metadata": {},
     "output_type": "execute_result"
    }
   ],
   "source": [
    "rfm.fit(X_train, y_train.values.ravel()) "
   ]
  },
  {
   "cell_type": "code",
   "execution_count": 35,
   "id": "1d7ae81b",
   "metadata": {},
   "outputs": [
    {
     "name": "stdout",
     "output_type": "stream",
     "text": [
      "TRAIN SET 0.9251282051282051\n",
      "TEST  SET 0.9192583732057417\n"
     ]
    }
   ],
   "source": [
    "print(\"TRAIN SET\", rfm.score(X_train, y_train))\n",
    "print(\"TEST  SET\", rfm.score(X_test, y_test))"
   ]
  },
  {
   "cell_type": "code",
   "execution_count": 36,
   "id": "dfca3b48",
   "metadata": {},
   "outputs": [
    {
     "data": {
      "text/plain": [
       "array([0.91487179, 0.93128205, 0.92102564, 0.91179487])"
      ]
     },
     "execution_count": 36,
     "metadata": {},
     "output_type": "execute_result"
    }
   ],
   "source": [
    "from sklearn.model_selection import cross_val_score\n",
    "scores = cross_val_score(rfm, X_train, y_train.values.ravel(), cv=4)\n",
    "scores"
   ]
  },
  {
   "cell_type": "code",
   "execution_count": 37,
   "id": "5134c053",
   "metadata": {},
   "outputs": [
    {
     "name": "stdout",
     "output_type": "stream",
     "text": [
      "Average: 0.92 (+/- 0.01)\n"
     ]
    }
   ],
   "source": [
    "print(\"Average: %0.2f (+/- %0.2f)\" % (scores.mean(), scores.std() * 2))"
   ]
  },
  {
   "cell_type": "code",
   "execution_count": 38,
   "id": "08d3e441",
   "metadata": {},
   "outputs": [],
   "source": [
    "import matplotlib.pyplot as plt\n",
    "import numpy as np\n",
    "from sklearn.metrics import roc_curve, auc"
   ]
  },
  {
   "cell_type": "code",
   "execution_count": 39,
   "id": "4bd057dc",
   "metadata": {},
   "outputs": [],
   "source": [
    "def plot_confusion_matrix(cm, title='Confusion matrix', cmap=plt.cm.Blues):\n",
    "    target_names=['spam','ham']\n",
    "    plt.imshow(cm, interpolation='nearest', cmap=cmap)\n",
    "    plt.title(title)\n",
    "    plt.colorbar()\n",
    "    tick_marks = np.arange(len(target_names))\n",
    "    plt.xticks(tick_marks, target_names, rotation=45)\n",
    "    plt.yticks(tick_marks, target_names)\n",
    "    plt.tight_layout()\n",
    "    plt.ylabel('True label')\n",
    "    plt.xlabel('Predicted label')"
   ]
  },
  {
   "cell_type": "code",
   "execution_count": 40,
   "id": "599c8116",
   "metadata": {},
   "outputs": [
    {
     "name": "stdout",
     "output_type": "stream",
     "text": [
      "[[1407   19    0]\n",
      " [ 115  130    0]\n",
      " [   1    0    0]]\n"
     ]
    },
    {
     "data": {
      "image/png": "[encoded data removed]",
      "text/plain": [
       "<Figure size 640x480 with 2 Axes>"
      ]
     },
     "metadata": {},
     "output_type": "display_data"
    }
   ],
   "source": [
    "from sklearn.metrics import confusion_matrix, accuracy_score, classification_report\n",
    "cm = confusion_matrix(y_test, rfm.predict(X_test))\n",
    "print(cm)\n",
    "plot_confusion_matrix(cm)"
   ]
  },
  {
   "cell_type": "markdown",
   "id": "fa1c499c",
   "metadata": {},
   "source": [
    "# Logistic Regression"
   ]
  },
  {
   "cell_type": "code",
   "execution_count": 41,
   "id": "aac7d0ff",
   "metadata": {},
   "outputs": [],
   "source": [
    "from sklearn.linear_model import LogisticRegression\n",
    "model = LogisticRegression()"
   ]
  },
  {
   "cell_type": "code",
   "execution_count": 42,
   "id": "9cd32ccf",
   "metadata": {},
   "outputs": [
    {
     "data": {
      "text/plain": [
       "LogisticRegression()"
      ]
     },
     "execution_count": 42,
     "metadata": {},
     "output_type": "execute_result"
    }
   ],
   "source": [
    "model.fit(X_train, y_train)"
   ]
  },
  {
   "cell_type": "code",
   "execution_count": 43,
   "id": "e39e2db5",
   "metadata": {},
   "outputs": [],
   "source": [
    "y_predicted = model.predict(X_test)"
   ]
  },
  {
   "cell_type": "code",
   "execution_count": 44,
   "id": "7bb1c42d",
   "metadata": {},
   "outputs": [
    {
     "data": {
      "text/plain": [
       "array([[9.96612469e-01, 3.38753119e-03],\n",
       "       [9.88635066e-01, 1.13649342e-02],\n",
       "       [9.94084113e-01, 5.91588733e-03],\n",
       "       ...,\n",
       "       [1.22219129e-01, 8.77780871e-01],\n",
       "       [9.99505003e-01, 4.94997458e-04],\n",
       "       [6.73056845e-02, 9.32694315e-01]])"
      ]
     },
     "execution_count": 44,
     "metadata": {},
     "output_type": "execute_result"
    }
   ],
   "source": [
    "model.predict_proba(X_test)"
   ]
  },
  {
   "cell_type": "code",
   "execution_count": 45,
   "id": "92e40205",
   "metadata": {},
   "outputs": [
    {
     "data": {
      "text/plain": [
       "0.9742822966507177"
      ]
     },
     "execution_count": 45,
     "metadata": {},
     "output_type": "execute_result"
    }
   ],
   "source": [
    "model.score(X_test,y_test)"
   ]
  },
  {
   "cell_type": "code",
   "execution_count": 46,
   "id": "6eec7ebc",
   "metadata": {},
   "outputs": [
    {
     "name": "stdout",
     "output_type": "stream",
     "text": [
      "Coefficient of determination R^2 <-- on train set: 0.9953846153846154\n"
     ]
    }
   ],
   "source": [
    "print(\"Coefficient of determination R^2 <-- on train set: {}\".format(model.score(X_train, y_train)))"
   ]
  },
  {
   "cell_type": "code",
   "execution_count": 47,
   "id": "c6fb73f0",
   "metadata": {},
   "outputs": [
    {
     "name": "stdout",
     "output_type": "stream",
     "text": [
      "Coefficient of determination R^2 <-- on train set: 0.9742822966507177\n"
     ]
    }
   ],
   "source": [
    "print(\"Coefficient of determination R^2 <-- on train set: {}\".format(model.score(X_test, y_test)))"
   ]
  },
  {
   "cell_type": "code",
   "execution_count": 48,
   "id": "b8676e20",
   "metadata": {},
   "outputs": [
    {
     "data": {
      "text/plain": [
       "<matplotlib.collections.PathCollection at 0x1424f5cb820>"
      ]
     },
     "execution_count": 48,
     "metadata": {},
     "output_type": "execute_result"
    },
    {
     "data": {
      "image/png": "[encoded data removed]",
      "text/plain": [
       "<Figure size 640x480 with 1 Axes>"
      ]
     },
     "metadata": {},
     "output_type": "display_data"
    }
   ],
   "source": [
    "plt.scatter(y_test,y_predicted)"
   ]
  },
  {
   "cell_type": "markdown",
   "id": "3353d8c4",
   "metadata": {},
   "source": [
    "# Decission tree"
   ]
  },
  {
   "cell_type": "code",
   "execution_count": 49,
   "id": "54d1c84c",
   "metadata": {},
   "outputs": [
    {
     "name": "stdout",
     "output_type": "stream",
     "text": [
      "DecisionTreeClassifier()\n"
     ]
    }
   ],
   "source": [
    "from sklearn import tree\n",
    "clf = tree.DecisionTreeClassifier()\n",
    "print(clf.fit(X_train, y_train))"
   ]
  },
  {
   "cell_type": "code",
   "execution_count": 50,
   "id": "e6b4edae",
   "metadata": {},
   "outputs": [
    {
     "name": "stdout",
     "output_type": "stream",
     "text": [
      "TRAIN SET 1.0\n",
      "TEST  SET 0.9688995215311005\n"
     ]
    }
   ],
   "source": [
    "print(\"TRAIN SET\", clf.score(X_train, y_train))\n",
    "print(\"TEST  SET\", clf.score(X_test, y_test))"
   ]
  },
  {
   "cell_type": "code",
   "execution_count": 51,
   "id": "00b03ccc",
   "metadata": {},
   "outputs": [
    {
     "data": {
      "text/plain": [
       "array([0.96615385, 0.96205128, 0.97128205, 0.96615385])"
      ]
     },
     "execution_count": 51,
     "metadata": {},
     "output_type": "execute_result"
    }
   ],
   "source": [
    "from sklearn.model_selection import cross_val_score\n",
    "scores = cross_val_score(clf, X_train, y_train.values.ravel(), cv=4)\n",
    "scores"
   ]
  },
  {
   "cell_type": "code",
   "execution_count": 52,
   "id": "847d6c15",
   "metadata": {},
   "outputs": [
    {
     "name": "stdout",
     "output_type": "stream",
     "text": [
      "Average: 0.97 (+/- 0.01)\n"
     ]
    }
   ],
   "source": [
    "print(\"Average: %0.2f (+/- %0.2f)\" % (scores.mean(), scores.std() * 2))"
   ]
  },
  {
   "cell_type": "code",
   "execution_count": 53,
   "id": "2ab052e0",
   "metadata": {},
   "outputs": [],
   "source": [
    "import matplotlib.pyplot as plt\n",
    "import numpy as np\n",
    "from sklearn.metrics import roc_curve, auc"
   ]
  },
  {
   "cell_type": "code",
   "execution_count": 54,
   "id": "42ab658e",
   "metadata": {},
   "outputs": [],
   "source": [
    "def plot_confusion_matrix(cm, title='Confusion matrix', cmap=plt.cm.Blues):\n",
    "    target_names=['Real','Fake']\n",
    "    plt.imshow(cm, interpolation='nearest', cmap=cmap)\n",
    "    plt.title(title)\n",
    "    plt.colorbar()\n",
    "    tick_marks = np.arange(len(target_names))\n",
    "    plt.xticks(tick_marks, target_names, rotation=45)\n",
    "    plt.yticks(tick_marks, target_names)\n",
    "    plt.tight_layout()\n",
    "    plt.ylabel('True label')\n",
    "    plt.xlabel('Predicted label')"
   ]
  },
  {
   "cell_type": "code",
   "execution_count": 55,
   "id": "b4cbcc57",
   "metadata": {},
   "outputs": [
    {
     "name": "stdout",
     "output_type": "stream",
     "text": [
      "[[1411   15    0]\n",
      " [  36  209    0]\n",
      " [   1    0    0]]\n"
     ]
    },
    {
     "data": {
      "image/png": "[encoded data removed]",
      "text/plain": [
       "<Figure size 640x480 with 2 Axes>"
      ]
     },
     "metadata": {},
     "output_type": "display_data"
    }
   ],
   "source": [
    "from sklearn.metrics import confusion_matrix, accuracy_score, classification_report\n",
    "cm = confusion_matrix(y_test, clf.predict(X_test))\n",
    "print(cm)\n",
    "plot_confusion_matrix(cm)"
   ]
  },
  {
   "cell_type": "code",
   "execution_count": 56,
   "id": "87d2e636",
   "metadata": {},
   "outputs": [
    {
     "name": "stdout",
     "output_type": "stream",
     "text": [
      "              precision    recall  f1-score   support\n",
      "\n",
      "         ham       0.97      0.99      0.98      1426\n",
      "        spam       0.93      0.85      0.89       245\n",
      "     spamaol       0.00      0.00      0.00         1\n",
      "\n",
      "    accuracy                           0.97      1672\n",
      "   macro avg       0.64      0.61      0.62      1672\n",
      "weighted avg       0.97      0.97      0.97      1672\n",
      "\n"
     ]
    },
    {
     "name": "stderr",
     "output_type": "stream",
     "text": [
      "C:\\Users\\Dell\\anaconda3\\lib\\site-packages\\sklearn\\metrics\\_classification.py:1318: UndefinedMetricWarning: Precision and F-score are ill-defined and being set to 0.0 in labels with no predicted samples. Use `zero_division` parameter to control this behavior.\n",
      "  _warn_prf(average, modifier, msg_start, len(result))\n",
      "C:\\Users\\Dell\\anaconda3\\lib\\site-packages\\sklearn\\metrics\\_classification.py:1318: UndefinedMetricWarning: Precision and F-score are ill-defined and being set to 0.0 in labels with no predicted samples. Use `zero_division` parameter to control this behavior.\n",
      "  _warn_prf(average, modifier, msg_start, len(result))\n",
      "C:\\Users\\Dell\\anaconda3\\lib\\site-packages\\sklearn\\metrics\\_classification.py:1318: UndefinedMetricWarning: Precision and F-score are ill-defined and being set to 0.0 in labels with no predicted samples. Use `zero_division` parameter to control this behavior.\n",
      "  _warn_prf(average, modifier, msg_start, len(result))\n"
     ]
    }
   ],
   "source": [
    "print(classification_report(y_test, clf.predict(X_test)))"
   ]
  },
  {
   "cell_type": "code",
   "execution_count": 57,
   "id": "1739061d",
   "metadata": {},
   "outputs": [
    {
     "data": {
      "image/png": "[encoded data removed]",
      "text/plain": [
       "<Figure size 640x480 with 1 Axes>"
      ]
     },
     "metadata": {},
     "output_type": "display_data"
    }
   ],
   "source": [
    "tree.plot_tree(clf.fit(X_train,y_train)) \n",
    "fig = clf.fit(X_train,y_train)\n",
    "tree.plot_tree(fig)\n",
    "plt.rcParams[\"figure.figsize\"] = [200,200]\n",
    "plt.show()"
   ]
  },
  {
   "cell_type": "code",
   "execution_count": 58,
   "id": "15872d1f",
   "metadata": {},
   "outputs": [
    {
     "data": {
      "text/html": [
       "<div>\n",
       "<style scoped>\n",
       "    .dataframe tbody tr th:only-of-type {\n",
       "        vertical-align: middle;\n",
       "    }\n",
       "\n",
       "    .dataframe tbody tr th {\n",
       "        vertical-align: top;\n",
       "    }\n",
       "\n",
       "    .dataframe thead th {\n",
       "        text-align: right;\n",
       "    }\n",
       "</style>\n",
       "<table border=\"1\" class=\"dataframe\">\n",
       "  <thead>\n",
       "    <tr style=\"text-align: right;\">\n",
       "      <th></th>\n",
       "      <th>0</th>\n",
       "    </tr>\n",
       "  </thead>\n",
       "  <tbody>\n",
       "    <tr>\n",
       "      <th>0</th>\n",
       "      <td>(0, 2838)\\t2\\n  (0, 3098)\\t1\\n  (0, 3692)\\t1...</td>\n",
       "    </tr>\n",
       "    <tr>\n",
       "      <th>1</th>\n",
       "      <td>(0, 1617)\\t1\\n  (0, 6895)\\t1</td>\n",
       "    </tr>\n",
       "    <tr>\n",
       "      <th>2</th>\n",
       "      <td>(0, 1554)\\t1\\n  (0, 1568)\\t1\\n  (0, 1693)\\t1...</td>\n",
       "    </tr>\n",
       "    <tr>\n",
       "      <th>3</th>\n",
       "      <td>(0, 3559)\\t1\\n  (0, 3912)\\t1\\n  (0, 4862)\\t1</td>\n",
       "    </tr>\n",
       "    <tr>\n",
       "      <th>4</th>\n",
       "      <td>(0, 2075)\\t1\\n  (0, 3980)\\t1\\n  (0, 6263)\\t1</td>\n",
       "    </tr>\n",
       "    <tr>\n",
       "      <th>...</th>\n",
       "      <td>...</td>\n",
       "    </tr>\n",
       "    <tr>\n",
       "      <th>3895</th>\n",
       "      <td>(0, 885)\\t1\\n  (0, 1790)\\t1\\n  (0, 4121)\\t1</td>\n",
       "    </tr>\n",
       "    <tr>\n",
       "      <th>3896</th>\n",
       "      <td>(0, 3028)\\t1\\n  (0, 3826)\\t1\\n  (0, 3898)\\t1...</td>\n",
       "    </tr>\n",
       "    <tr>\n",
       "      <th>3897</th>\n",
       "      <td>(0, 845)\\t1\\n  (0, 4968)\\t1</td>\n",
       "    </tr>\n",
       "    <tr>\n",
       "      <th>3898</th>\n",
       "      <td>(0, 811)\\t1\\n  (0, 927)\\t1\\n  (0, 2029)\\t1\\n...</td>\n",
       "    </tr>\n",
       "    <tr>\n",
       "      <th>3899</th>\n",
       "      <td>(0, 1080)\\t1\\n  (0, 4518)\\t1\\n  (0, 6084)\\t1...</td>\n",
       "    </tr>\n",
       "  </tbody>\n",
       "</table>\n",
       "<p>3900 rows × 1 columns</p>\n",
       "</div>"
      ],
      "text/plain": [
       "                                                      0\n",
       "0       (0, 2838)\\t2\\n  (0, 3098)\\t1\\n  (0, 3692)\\t1...\n",
       "1                          (0, 1617)\\t1\\n  (0, 6895)\\t1\n",
       "2       (0, 1554)\\t1\\n  (0, 1568)\\t1\\n  (0, 1693)\\t1...\n",
       "3          (0, 3559)\\t1\\n  (0, 3912)\\t1\\n  (0, 4862)\\t1\n",
       "4          (0, 2075)\\t1\\n  (0, 3980)\\t1\\n  (0, 6263)\\t1\n",
       "...                                                 ...\n",
       "3895        (0, 885)\\t1\\n  (0, 1790)\\t1\\n  (0, 4121)\\t1\n",
       "3896    (0, 3028)\\t1\\n  (0, 3826)\\t1\\n  (0, 3898)\\t1...\n",
       "3897                        (0, 845)\\t1\\n  (0, 4968)\\t1\n",
       "3898    (0, 811)\\t1\\n  (0, 927)\\t1\\n  (0, 2029)\\t1\\n...\n",
       "3899    (0, 1080)\\t1\\n  (0, 4518)\\t1\\n  (0, 6084)\\t1...\n",
       "\n",
       "[3900 rows x 1 columns]"
      ]
     },
     "execution_count": 58,
     "metadata": {},
     "output_type": "execute_result"
    }
   ],
   "source": [
    "d=pd.DataFrame(X_train)\n",
    "d"
   ]
  },
  {
   "cell_type": "code",
   "execution_count": 61,
   "id": "9cd6f2c9",
   "metadata": {},
   "outputs": [
    {
     "data": {
      "text/plain": [
       "['SMS_Detection_Model.pkl']"
      ]
     },
     "execution_count": 61,
     "metadata": {},
     "output_type": "execute_result"
    }
   ],
   "source": [
    "#Exporting the model using joblib library\n",
    "import joblib\n",
    "joblib.dump(rfm,\"SMS_Detection_Model.pkl\") "
   ]
  },
  {
   "cell_type": "code",
   "execution_count": 62,
   "id": "6332a408",
   "metadata": {},
   "outputs": [
    {
     "data": {
      "text/plain": [
       "['TF_IDF.pkl']"
      ]
     },
     "execution_count": 62,
     "metadata": {},
     "output_type": "execute_result"
    }
   ],
   "source": [
    "joblib.dump(tfidf_transformer,\"TF_IDF.pkl\")"
   ]
  },
  {
   "cell_type": "code",
   "execution_count": 63,
   "id": "a8d18eef",
   "metadata": {},
   "outputs": [],
   "source": [
    "classifier = joblib.load('SMS_Detection_Model.pkl')\n",
    "cv = joblib.load('TF_IDF.pkl')"
   ]
  },
  {
   "cell_type": "code",
   "execution_count": 64,
   "id": "782bccd2",
   "metadata": {},
   "outputs": [
    {
     "ename": "ValueError",
     "evalue": "could not convert string to float: 'Free entry in 2 a wkly comp to win FA Cup final tkts 21st May 2005. Text FA to 87121 to receive entry question(std txt rate)T&Cs apply 08452810075over18s'",
     "output_type": "error",
     "traceback": [
      "\u001b[1;31m---------------------------------------------------------------------------\u001b[0m",
      "\u001b[1;31mValueError\u001b[0m                                Traceback (most recent call last)",
      "Cell \u001b[1;32mIn[64], line 2\u001b[0m\n\u001b[0;32m      1\u001b[0m data \u001b[38;5;241m=\u001b[39m [\u001b[38;5;124m'\u001b[39m\u001b[38;5;124mFree entry in 2 a wkly comp to win FA Cup final tkts 21st May 2005. Text FA to 87121 to receive entry question(std txt rate)T&Cs apply 08452810075over18s\u001b[39m\u001b[38;5;124m'\u001b[39m]\n\u001b[1;32m----> 2\u001b[0m vectorized \u001b[38;5;241m=\u001b[39m \u001b[43mcv\u001b[49m\u001b[38;5;241;43m.\u001b[39;49m\u001b[43mtransform\u001b[49m\u001b[43m(\u001b[49m\u001b[43mdata\u001b[49m\u001b[43m)\u001b[49m\u001b[38;5;241m.\u001b[39mtoarray()\n\u001b[0;32m      3\u001b[0m my_prediction \u001b[38;5;241m=\u001b[39m classifier\u001b[38;5;241m.\u001b[39mpredict(vectorized)\n\u001b[0;32m      4\u001b[0m \u001b[38;5;28;01mif\u001b[39;00m my_prediction[\u001b[38;5;241m0\u001b[39m] \u001b[38;5;241m==\u001b[39m \u001b[38;5;241m1\u001b[39m:\n",
      "File \u001b[1;32m~\\anaconda3\\lib\\site-packages\\sklearn\\feature_extraction\\text.py:1660\u001b[0m, in \u001b[0;36mTfidfTransformer.transform\u001b[1;34m(self, X, copy)\u001b[0m\n\u001b[0;32m   1643\u001b[0m \u001b[38;5;28;01mdef\u001b[39;00m \u001b[38;5;21mtransform\u001b[39m(\u001b[38;5;28mself\u001b[39m, X, copy\u001b[38;5;241m=\u001b[39m\u001b[38;5;28;01mTrue\u001b[39;00m):\n\u001b[0;32m   1644\u001b[0m \u001b[38;5;250m    \u001b[39m\u001b[38;5;124;03m\"\"\"Transform a count matrix to a tf or tf-idf representation.\u001b[39;00m\n\u001b[0;32m   1645\u001b[0m \n\u001b[0;32m   1646\u001b[0m \u001b[38;5;124;03m    Parameters\u001b[39;00m\n\u001b[1;32m   (...)\u001b[0m\n\u001b[0;32m   1658\u001b[0m \u001b[38;5;124;03m        Tf-idf-weighted document-term matrix.\u001b[39;00m\n\u001b[0;32m   1659\u001b[0m \u001b[38;5;124;03m    \"\"\"\u001b[39;00m\n\u001b[1;32m-> 1660\u001b[0m     X \u001b[38;5;241m=\u001b[39m \u001b[38;5;28;43mself\u001b[39;49m\u001b[38;5;241;43m.\u001b[39;49m\u001b[43m_validate_data\u001b[49m\u001b[43m(\u001b[49m\n\u001b[0;32m   1661\u001b[0m \u001b[43m        \u001b[49m\u001b[43mX\u001b[49m\u001b[43m,\u001b[49m\u001b[43m \u001b[49m\u001b[43maccept_sparse\u001b[49m\u001b[38;5;241;43m=\u001b[39;49m\u001b[38;5;124;43m\"\u001b[39;49m\u001b[38;5;124;43mcsr\u001b[39;49m\u001b[38;5;124;43m\"\u001b[39;49m\u001b[43m,\u001b[49m\u001b[43m \u001b[49m\u001b[43mdtype\u001b[49m\u001b[38;5;241;43m=\u001b[39;49m\u001b[43mFLOAT_DTYPES\u001b[49m\u001b[43m,\u001b[49m\u001b[43m \u001b[49m\u001b[43mcopy\u001b[49m\u001b[38;5;241;43m=\u001b[39;49m\u001b[43mcopy\u001b[49m\u001b[43m,\u001b[49m\u001b[43m \u001b[49m\u001b[43mreset\u001b[49m\u001b[38;5;241;43m=\u001b[39;49m\u001b[38;5;28;43;01mFalse\u001b[39;49;00m\n\u001b[0;32m   1662\u001b[0m \u001b[43m    \u001b[49m\u001b[43m)\u001b[49m\n\u001b[0;32m   1663\u001b[0m     \u001b[38;5;28;01mif\u001b[39;00m \u001b[38;5;129;01mnot\u001b[39;00m sp\u001b[38;5;241m.\u001b[39missparse(X):\n\u001b[0;32m   1664\u001b[0m         X \u001b[38;5;241m=\u001b[39m sp\u001b[38;5;241m.\u001b[39mcsr_matrix(X, dtype\u001b[38;5;241m=\u001b[39mnp\u001b[38;5;241m.\u001b[39mfloat64)\n",
      "File \u001b[1;32m~\\anaconda3\\lib\\site-packages\\sklearn\\base.py:566\u001b[0m, in \u001b[0;36mBaseEstimator._validate_data\u001b[1;34m(self, X, y, reset, validate_separately, **check_params)\u001b[0m\n\u001b[0;32m    564\u001b[0m     \u001b[38;5;28;01mraise\u001b[39;00m \u001b[38;5;167;01mValueError\u001b[39;00m(\u001b[38;5;124m\"\u001b[39m\u001b[38;5;124mValidation should be done on X, y or both.\u001b[39m\u001b[38;5;124m\"\u001b[39m)\n\u001b[0;32m    565\u001b[0m \u001b[38;5;28;01melif\u001b[39;00m \u001b[38;5;129;01mnot\u001b[39;00m no_val_X \u001b[38;5;129;01mand\u001b[39;00m no_val_y:\n\u001b[1;32m--> 566\u001b[0m     X \u001b[38;5;241m=\u001b[39m check_array(X, \u001b[38;5;241m*\u001b[39m\u001b[38;5;241m*\u001b[39mcheck_params)\n\u001b[0;32m    567\u001b[0m     out \u001b[38;5;241m=\u001b[39m X\n\u001b[0;32m    568\u001b[0m \u001b[38;5;28;01melif\u001b[39;00m no_val_X \u001b[38;5;129;01mand\u001b[39;00m \u001b[38;5;129;01mnot\u001b[39;00m no_val_y:\n",
      "File \u001b[1;32m~\\anaconda3\\lib\\site-packages\\sklearn\\utils\\validation.py:746\u001b[0m, in \u001b[0;36mcheck_array\u001b[1;34m(array, accept_sparse, accept_large_sparse, dtype, order, copy, force_all_finite, ensure_2d, allow_nd, ensure_min_samples, ensure_min_features, estimator)\u001b[0m\n\u001b[0;32m    744\u001b[0m         array \u001b[38;5;241m=\u001b[39m array\u001b[38;5;241m.\u001b[39mastype(dtype, casting\u001b[38;5;241m=\u001b[39m\u001b[38;5;124m\"\u001b[39m\u001b[38;5;124munsafe\u001b[39m\u001b[38;5;124m\"\u001b[39m, copy\u001b[38;5;241m=\u001b[39m\u001b[38;5;28;01mFalse\u001b[39;00m)\n\u001b[0;32m    745\u001b[0m     \u001b[38;5;28;01melse\u001b[39;00m:\n\u001b[1;32m--> 746\u001b[0m         array \u001b[38;5;241m=\u001b[39m \u001b[43mnp\u001b[49m\u001b[38;5;241;43m.\u001b[39;49m\u001b[43masarray\u001b[49m\u001b[43m(\u001b[49m\u001b[43marray\u001b[49m\u001b[43m,\u001b[49m\u001b[43m \u001b[49m\u001b[43morder\u001b[49m\u001b[38;5;241;43m=\u001b[39;49m\u001b[43morder\u001b[49m\u001b[43m,\u001b[49m\u001b[43m \u001b[49m\u001b[43mdtype\u001b[49m\u001b[38;5;241;43m=\u001b[39;49m\u001b[43mdtype\u001b[49m\u001b[43m)\u001b[49m\n\u001b[0;32m    747\u001b[0m \u001b[38;5;28;01mexcept\u001b[39;00m ComplexWarning \u001b[38;5;28;01mas\u001b[39;00m complex_warning:\n\u001b[0;32m    748\u001b[0m     \u001b[38;5;28;01mraise\u001b[39;00m \u001b[38;5;167;01mValueError\u001b[39;00m(\n\u001b[0;32m    749\u001b[0m         \u001b[38;5;124m\"\u001b[39m\u001b[38;5;124mComplex data not supported\u001b[39m\u001b[38;5;130;01m\\n\u001b[39;00m\u001b[38;5;132;01m{}\u001b[39;00m\u001b[38;5;130;01m\\n\u001b[39;00m\u001b[38;5;124m\"\u001b[39m\u001b[38;5;241m.\u001b[39mformat(array)\n\u001b[0;32m    750\u001b[0m     ) \u001b[38;5;28;01mfrom\u001b[39;00m \u001b[38;5;21;01mcomplex_warning\u001b[39;00m\n",
      "\u001b[1;31mValueError\u001b[0m: could not convert string to float: 'Free entry in 2 a wkly comp to win FA Cup final tkts 21st May 2005. Text FA to 87121 to receive entry question(std txt rate)T&Cs apply 08452810075over18s'"
     ]
    }
   ],
   "source": [
    "data = ['Free entry in 2 a wkly comp to win FA Cup final tkts 21st May 2005. Text FA to 87121 to receive entry question(std txt rate)T&Cs apply 08452810075over18s']\n",
    "vectorized = cv.transform(data).toarray()\n",
    "my_prediction = classifier.predict(vectorized)\n",
    "if my_prediction[0] == 1:\n",
    "    print(\"Spam Message\")\n",
    "else:\n",
    "    print(\"Not a spam message\")"
   ]
  },
  {
   "cell_type": "code",
   "execution_count": 65,
   "id": "27c0d1d0",
   "metadata": {},
   "outputs": [
    {
     "ename": "ValueError",
     "evalue": "could not convert string to float: 'Go until jurong point, crazy.. Available only in bugis n great world la e buffet... Cine there got amore wat...'",
     "output_type": "error",
     "traceback": [
      "\u001b[1;31m---------------------------------------------------------------------------\u001b[0m",
      "\u001b[1;31mValueError\u001b[0m                                Traceback (most recent call last)",
      "Cell \u001b[1;32mIn[65], line 2\u001b[0m\n\u001b[0;32m      1\u001b[0m data \u001b[38;5;241m=\u001b[39m [\u001b[38;5;124m'\u001b[39m\u001b[38;5;124mGo until jurong point, crazy.. Available only in bugis n great world la e buffet... Cine there got amore wat...\u001b[39m\u001b[38;5;124m'\u001b[39m]\n\u001b[1;32m----> 2\u001b[0m vectorized \u001b[38;5;241m=\u001b[39m \u001b[43mcv\u001b[49m\u001b[38;5;241;43m.\u001b[39;49m\u001b[43mtransform\u001b[49m\u001b[43m(\u001b[49m\u001b[43mdata\u001b[49m\u001b[43m)\u001b[49m\u001b[38;5;241m.\u001b[39mtoarray()\n\u001b[0;32m      3\u001b[0m my_prediction \u001b[38;5;241m=\u001b[39m classifier\u001b[38;5;241m.\u001b[39mpredict(vectorized)\n\u001b[0;32m      4\u001b[0m \u001b[38;5;28;01mif\u001b[39;00m my_prediction[\u001b[38;5;241m0\u001b[39m] \u001b[38;5;241m==\u001b[39m \u001b[38;5;241m1\u001b[39m:\n",
      "File \u001b[1;32m~\\anaconda3\\lib\\site-packages\\sklearn\\feature_extraction\\text.py:1660\u001b[0m, in \u001b[0;36mTfidfTransformer.transform\u001b[1;34m(self, X, copy)\u001b[0m\n\u001b[0;32m   1643\u001b[0m \u001b[38;5;28;01mdef\u001b[39;00m \u001b[38;5;21mtransform\u001b[39m(\u001b[38;5;28mself\u001b[39m, X, copy\u001b[38;5;241m=\u001b[39m\u001b[38;5;28;01mTrue\u001b[39;00m):\n\u001b[0;32m   1644\u001b[0m \u001b[38;5;250m    \u001b[39m\u001b[38;5;124;03m\"\"\"Transform a count matrix to a tf or tf-idf representation.\u001b[39;00m\n\u001b[0;32m   1645\u001b[0m \n\u001b[0;32m   1646\u001b[0m \u001b[38;5;124;03m    Parameters\u001b[39;00m\n\u001b[1;32m   (...)\u001b[0m\n\u001b[0;32m   1658\u001b[0m \u001b[38;5;124;03m        Tf-idf-weighted document-term matrix.\u001b[39;00m\n\u001b[0;32m   1659\u001b[0m \u001b[38;5;124;03m    \"\"\"\u001b[39;00m\n\u001b[1;32m-> 1660\u001b[0m     X \u001b[38;5;241m=\u001b[39m \u001b[38;5;28;43mself\u001b[39;49m\u001b[38;5;241;43m.\u001b[39;49m\u001b[43m_validate_data\u001b[49m\u001b[43m(\u001b[49m\n\u001b[0;32m   1661\u001b[0m \u001b[43m        \u001b[49m\u001b[43mX\u001b[49m\u001b[43m,\u001b[49m\u001b[43m \u001b[49m\u001b[43maccept_sparse\u001b[49m\u001b[38;5;241;43m=\u001b[39;49m\u001b[38;5;124;43m\"\u001b[39;49m\u001b[38;5;124;43mcsr\u001b[39;49m\u001b[38;5;124;43m\"\u001b[39;49m\u001b[43m,\u001b[49m\u001b[43m \u001b[49m\u001b[43mdtype\u001b[49m\u001b[38;5;241;43m=\u001b[39;49m\u001b[43mFLOAT_DTYPES\u001b[49m\u001b[43m,\u001b[49m\u001b[43m \u001b[49m\u001b[43mcopy\u001b[49m\u001b[38;5;241;43m=\u001b[39;49m\u001b[43mcopy\u001b[49m\u001b[43m,\u001b[49m\u001b[43m \u001b[49m\u001b[43mreset\u001b[49m\u001b[38;5;241;43m=\u001b[39;49m\u001b[38;5;28;43;01mFalse\u001b[39;49;00m\n\u001b[0;32m   1662\u001b[0m \u001b[43m    \u001b[49m\u001b[43m)\u001b[49m\n\u001b[0;32m   1663\u001b[0m     \u001b[38;5;28;01mif\u001b[39;00m \u001b[38;5;129;01mnot\u001b[39;00m sp\u001b[38;5;241m.\u001b[39missparse(X):\n\u001b[0;32m   1664\u001b[0m         X \u001b[38;5;241m=\u001b[39m sp\u001b[38;5;241m.\u001b[39mcsr_matrix(X, dtype\u001b[38;5;241m=\u001b[39mnp\u001b[38;5;241m.\u001b[39mfloat64)\n",
      "File \u001b[1;32m~\\anaconda3\\lib\\site-packages\\sklearn\\base.py:566\u001b[0m, in \u001b[0;36mBaseEstimator._validate_data\u001b[1;34m(self, X, y, reset, validate_separately, **check_params)\u001b[0m\n\u001b[0;32m    564\u001b[0m     \u001b[38;5;28;01mraise\u001b[39;00m \u001b[38;5;167;01mValueError\u001b[39;00m(\u001b[38;5;124m\"\u001b[39m\u001b[38;5;124mValidation should be done on X, y or both.\u001b[39m\u001b[38;5;124m\"\u001b[39m)\n\u001b[0;32m    565\u001b[0m \u001b[38;5;28;01melif\u001b[39;00m \u001b[38;5;129;01mnot\u001b[39;00m no_val_X \u001b[38;5;129;01mand\u001b[39;00m no_val_y:\n\u001b[1;32m--> 566\u001b[0m     X \u001b[38;5;241m=\u001b[39m check_array(X, \u001b[38;5;241m*\u001b[39m\u001b[38;5;241m*\u001b[39mcheck_params)\n\u001b[0;32m    567\u001b[0m     out \u001b[38;5;241m=\u001b[39m X\n\u001b[0;32m    568\u001b[0m \u001b[38;5;28;01melif\u001b[39;00m no_val_X \u001b[38;5;129;01mand\u001b[39;00m \u001b[38;5;129;01mnot\u001b[39;00m no_val_y:\n",
      "File \u001b[1;32m~\\anaconda3\\lib\\site-packages\\sklearn\\utils\\validation.py:746\u001b[0m, in \u001b[0;36mcheck_array\u001b[1;34m(array, accept_sparse, accept_large_sparse, dtype, order, copy, force_all_finite, ensure_2d, allow_nd, ensure_min_samples, ensure_min_features, estimator)\u001b[0m\n\u001b[0;32m    744\u001b[0m         array \u001b[38;5;241m=\u001b[39m array\u001b[38;5;241m.\u001b[39mastype(dtype, casting\u001b[38;5;241m=\u001b[39m\u001b[38;5;124m\"\u001b[39m\u001b[38;5;124munsafe\u001b[39m\u001b[38;5;124m\"\u001b[39m, copy\u001b[38;5;241m=\u001b[39m\u001b[38;5;28;01mFalse\u001b[39;00m)\n\u001b[0;32m    745\u001b[0m     \u001b[38;5;28;01melse\u001b[39;00m:\n\u001b[1;32m--> 746\u001b[0m         array \u001b[38;5;241m=\u001b[39m \u001b[43mnp\u001b[49m\u001b[38;5;241;43m.\u001b[39;49m\u001b[43masarray\u001b[49m\u001b[43m(\u001b[49m\u001b[43marray\u001b[49m\u001b[43m,\u001b[49m\u001b[43m \u001b[49m\u001b[43morder\u001b[49m\u001b[38;5;241;43m=\u001b[39;49m\u001b[43morder\u001b[49m\u001b[43m,\u001b[49m\u001b[43m \u001b[49m\u001b[43mdtype\u001b[49m\u001b[38;5;241;43m=\u001b[39;49m\u001b[43mdtype\u001b[49m\u001b[43m)\u001b[49m\n\u001b[0;32m    747\u001b[0m \u001b[38;5;28;01mexcept\u001b[39;00m ComplexWarning \u001b[38;5;28;01mas\u001b[39;00m complex_warning:\n\u001b[0;32m    748\u001b[0m     \u001b[38;5;28;01mraise\u001b[39;00m \u001b[38;5;167;01mValueError\u001b[39;00m(\n\u001b[0;32m    749\u001b[0m         \u001b[38;5;124m\"\u001b[39m\u001b[38;5;124mComplex data not supported\u001b[39m\u001b[38;5;130;01m\\n\u001b[39;00m\u001b[38;5;132;01m{}\u001b[39;00m\u001b[38;5;130;01m\\n\u001b[39;00m\u001b[38;5;124m\"\u001b[39m\u001b[38;5;241m.\u001b[39mformat(array)\n\u001b[0;32m    750\u001b[0m     ) \u001b[38;5;28;01mfrom\u001b[39;00m \u001b[38;5;21;01mcomplex_warning\u001b[39;00m\n",
      "\u001b[1;31mValueError\u001b[0m: could not convert string to float: 'Go until jurong point, crazy.. Available only in bugis n great world la e buffet... Cine there got amore wat...'"
     ]
    }
   ],
   "source": [
    "data = ['Go until jurong point, crazy.. Available only in bugis n great world la e buffet... Cine there got amore wat...']\n",
    "vectorized = cv.transform(data).toarray()\n",
    "my_prediction = classifier.predict(vectorized)\n",
    "if my_prediction[0] == 1:\n",
    "    print(\"Spam Message\")\n",
    "else:\n",
    "    print(\"Not a spam message\")"
   ]
  },
  {
   "cell_type": "code",
   "execution_count": null,
   "id": "d7454ef3",
   "metadata": {},
   "outputs": [],
   "source": []
  },
  {
   "cell_type": "markdown",
   "id": "d133d2e3",
   "metadata": {},
   "source": [
    "# Output"
   ]
  },
  {
   "cell_type": "code",
   "execution_count": 1,
   "id": "241f085b",
   "metadata": {},
   "outputs": [
    {
     "ename": "NameError",
     "evalue": "name 'cv' is not defined",
     "output_type": "error",
     "traceback": [
      "\u001b[1;31m---------------------------------------------------------------------------\u001b[0m",
      "\u001b[1;31mNameError\u001b[0m                                 Traceback (most recent call last)",
      "Cell \u001b[1;32mIn[1], line 2\u001b[0m\n\u001b[0;32m      1\u001b[0m data \u001b[38;5;241m=\u001b[39m [\u001b[38;5;124m'\u001b[39m\u001b[38;5;124mFree entry in 2 a wkly comp to win FA Cup final tkts 21st May 2005. Text FA to 87121 to receive entry question(std txt rate)T&Cs apply 08452810075over18s\u001b[39m\u001b[38;5;124m'\u001b[39m]\n\u001b[1;32m----> 2\u001b[0m vectorized \u001b[38;5;241m=\u001b[39m \u001b[43mcv\u001b[49m\u001b[38;5;241m.\u001b[39mtransform(data)\u001b[38;5;241m.\u001b[39mtoarray()\n\u001b[0;32m      3\u001b[0m my_prediction \u001b[38;5;241m=\u001b[39m classifier\u001b[38;5;241m.\u001b[39mpredict(vectorized)\n\u001b[0;32m      4\u001b[0m \u001b[38;5;28;01mif\u001b[39;00m my_prediction[\u001b[38;5;241m0\u001b[39m] \u001b[38;5;241m==\u001b[39m \u001b[38;5;241m1\u001b[39m:\n",
      "\u001b[1;31mNameError\u001b[0m: name 'cv' is not defined"
     ]
    }
   ],
   "source": [
    "data = ['Free entry in 2 a wkly comp to win FA Cup final tkts 21st May 2005. Text FA to 87121 to receive entry question(std txt rate)T&Cs apply 08452810075over18s']\n",
    "vectorized = cv.transform(data).toarray()\n",
    "my_prediction = classifier.predict(vectorized)\n",
    "if my_prediction[0] == 1:\n",
    "    print(\"Spam Message\")\n",
    "else:\n",
    "    print(\"Not a spam message\")"
   ]
  },
  {
   "cell_type": "code",
   "execution_count": null,
   "id": "da99a8fd",
   "metadata": {},
   "outputs": [],
   "source": []
  },
  {
   "cell_type": "code",
   "execution_count": null,
   "id": "fff64261",
   "metadata": {},
   "outputs": [],
   "source": []
  },
  {
   "cell_type": "code",
   "execution_count": null,
   "id": "960887bf",
   "metadata": {},
   "outputs": [],
   "source": []
  },
  {
   "cell_type": "code",
   "execution_count": null,
   "id": "4a339c63",
   "metadata": {},
   "outputs": [],
   "source": []
  }
 ],
 "metadata": {
  "colab": {
   "provenance": []
  },
  "kernelspec": {
   "display_name": "Python 3 (ipykernel)",
   "language": "python",
   "name": "python3"
  },
  "language_info": {
   "codemirror_mode": {
    "name": "ipython",
    "version": 3
   },
   "file_extension": ".py",
   "mimetype": "text/x-python",
   "name": "python",
   "nbconvert_exporter": "python",
   "pygments_lexer": "ipython3",
   "version": "3.9.13"
  },
  "papermill": {
   "default_parameters": {},
   "duration": 349.842899,
   "end_time": "2021-04-02T17:39:58.226963",
   "environment_variables": {},
   "exception": null,
   "input_path": "__notebook__.ipynb",
   "output_path": "__notebook__.ipynb",
   "parameters": {},
   "start_time": "2021-04-02T17:34:08.384064",
   "version": "2.3.2"
  }
 },
 "nbformat": 4,
 "nbformat_minor": 5
}
